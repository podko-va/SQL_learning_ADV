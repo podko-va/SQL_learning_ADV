{
  "nbformat": 4,
  "nbformat_minor": 0,
  "metadata": {
    "colab": {
      "provenance": [],
      "authorship_tag": "ABX9TyNb7+mbvQ60i/4ta2rBTmtW",
      "include_colab_link": true
    },
    "kernelspec": {
      "name": "python3",
      "display_name": "Python 3"
    },
    "language_info": {
      "name": "python"
    }
  },
  "cells": [
    {
      "cell_type": "markdown",
      "metadata": {
        "id": "view-in-github",
        "colab_type": "text"
      },
      "source": [
        "<a href=\"https://colab.research.google.com/github/podko-va/SQL_learning_ADV/blob/main/Day1.ipynb\" target=\"_parent\"><img src=\"https://colab.research.google.com/assets/colab-badge.svg\" alt=\"Open In Colab\"/></a>"
      ]
    },
    {
      "cell_type": "code",
      "execution_count": 2,
      "metadata": {
        "colab": {
          "base_uri": "https://localhost:8080/"
        },
        "id": "NBfnICBt9KZh",
        "outputId": "62f437b9-375f-40d1-a26a-c635e6e361f7"
      },
      "outputs": [
        {
          "output_type": "stream",
          "name": "stdout",
          "text": [
            "All students:\n",
            "\n",
            "Courses for student with ID 1 (using subquery):\n",
            "\n",
            "Students enrolled in 'Math 101' (nested query):\n"
          ]
        }
      ],
      "source": [
        "# Устанавливаем необходимые библиотеки\n",
        "import sqlite3\n",
        "import pandas as pd\n",
        "\n",
        "# Создаем подключение к базе данных в памяти\n",
        "conn = sqlite3.connect(':memory:')\n",
        "cursor = conn.cursor()\n",
        "\n",
        "# Шаг 1: Создаем таблицы для демонстрации\n",
        "\n",
        "# Таблица студентов\n",
        "cursor.execute('''\n",
        "CREATE TABLE students (\n",
        "    student_id INTEGER PRIMARY KEY,\n",
        "    first_name TEXT,\n",
        "    last_name TEXT,\n",
        "    age INTEGER\n",
        ");\n",
        "''')\n",
        "\n",
        "# Таблица курсов\n",
        "cursor.execute('''\n",
        "CREATE TABLE courses (\n",
        "    course_id INTEGER PRIMARY KEY,\n",
        "    course_name TEXT,\n",
        "    instructor TEXT\n",
        ");\n",
        "''')\n",
        "\n",
        "# Таблица зачислений\n",
        "cursor.execute('''\n",
        "CREATE TABLE enrollments (\n",
        "    enrollment_id INTEGER PRIMARY KEY,\n",
        "    student_id INTEGER,\n",
        "    course_id INTEGER,\n",
        "    FOREIGN KEY(student_id) REFERENCES students(student_id),\n",
        "    FOREIGN KEY(course_id) REFERENCES courses(course_id)\n",
        ");\n",
        "''')\n",
        "\n",
        "# Шаг 2: Вставляем данные в таблицы\n",
        "cursor.execute(\"INSERT INTO students (student_id, first_name, last_name, age) VALUES (1, 'John', 'Doe', 20);\")\n",
        "cursor.execute(\"INSERT INTO students (student_id, first_name, last_name, age) VALUES (2, 'Jane', 'Smith', 22);\")\n",
        "cursor.execute(\"INSERT INTO students (student_id, first_name, last_name, age) VALUES (3, 'Alice', 'Johnson', 21);\")\n",
        "\n",
        "cursor.execute(\"INSERT INTO courses (course_id, course_name, instructor) VALUES (1, 'Math 101', 'Dr. Brown');\")\n",
        "cursor.execute(\"INSERT INTO courses (course_id, course_name, instructor) VALUES (2, 'History 201', 'Dr. Green');\")\n",
        "cursor.execute(\"INSERT INTO courses (course_id, course_name, instructor) VALUES (3, 'Science 301', 'Dr. White');\")\n",
        "\n",
        "cursor.execute(\"INSERT INTO enrollments (enrollment_id, student_id, course_id) VALUES (1, 1, 1);\")\n",
        "cursor.execute(\"INSERT INTO enrollments (enrollment_id, student_id, course_id) VALUES (2, 2, 2);\")\n",
        "cursor.execute(\"INSERT INTO enrollments (enrollment_id, student_id, course_id) VALUES (3, 3, 3);\")\n",
        "cursor.execute(\"INSERT INTO enrollments (enrollment_id, student_id, course_id) VALUES (4, 1, 2);\")\n",
        "cursor.execute(\"INSERT INTO enrollments (enrollment_id, student_id, course_id) VALUES (5, 2, 3);\")\n",
        "\n",
        "# Сохраняем изменения\n",
        "conn.commit()\n",
        "\n",
        "# Шаг 3: Запрос 1 - Основы SELECT\n",
        "# Получаем список всех студентов\n",
        "query = \"SELECT * FROM students;\"\n",
        "students_df = pd.read_sql(query, conn)\n",
        "print(\"All students:\")\n",
        "students_df\n",
        "\n",
        "# Шаг 4: Введение в подзапросы (Subqueries)\n",
        "# Пример: Найдем все курсы, на которых учится студент с ID = 1\n",
        "query_subquery = '''\n",
        "SELECT course_name\n",
        "FROM courses\n",
        "WHERE course_id IN (SELECT course_id FROM enrollments WHERE student_id = 1);\n",
        "'''\n",
        "courses_for_student_1 = pd.read_sql(query_subquery, conn)\n",
        "print(\"\\nCourses for student with ID 1 (using subquery):\")\n",
        "courses_for_student_1\n",
        "\n",
        "# Шаг 5: Вложенные запросы (Nested Queries)\n",
        "# Пример: Получим список студентов, которые учат курс \"Math 101\"\n",
        "query_nested = '''\n",
        "SELECT first_name, last_name\n",
        "FROM students\n",
        "WHERE student_id IN (\n",
        "    SELECT student_id\n",
        "    FROM enrollments\n",
        "    WHERE course_id = (SELECT course_id FROM courses WHERE course_name = 'Math 101')\n",
        ");\n",
        "'''\n",
        "students_for_math_101 = pd.read_sql(query_nested, conn)\n",
        "print(\"\\nStudents enrolled in 'Math 101' (nested query):\")\n",
        "students_for_math_101\n",
        "\n",
        "# Закрываем соединение\n",
        "conn.close()\n"
      ]
    }
  ]
}